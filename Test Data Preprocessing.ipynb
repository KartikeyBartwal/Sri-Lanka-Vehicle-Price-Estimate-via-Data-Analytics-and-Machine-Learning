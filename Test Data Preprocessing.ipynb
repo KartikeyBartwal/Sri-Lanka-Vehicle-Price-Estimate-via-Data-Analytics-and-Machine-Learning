{
 "cells": [
  {
   "cell_type": "code",
   "execution_count": 1,
   "id": "4deec712",
   "metadata": {},
   "outputs": [],
   "source": [
    "import pandas as pd\n",
    "from re import sub\n",
    "import numpy as np\n",
    "import seaborn as sns\n",
    "import math\n",
    "import statistics"
   ]
  },
  {
   "cell_type": "code",
   "execution_count": 2,
   "id": "4bfe5d04",
   "metadata": {},
   "outputs": [],
   "source": [
    "pd.set_option(\"display.max_columns\",None)"
   ]
  },
  {
   "cell_type": "code",
   "execution_count": 3,
   "id": "9f6d09f5",
   "metadata": {},
   "outputs": [],
   "source": [
    "df_test=pd.read_csv(\"vehicle_data_test.csv\")"
   ]
  },
  {
   "cell_type": "code",
   "execution_count": 4,
   "id": "a4920683",
   "metadata": {},
   "outputs": [
    {
     "data": {
      "text/plain": [
       "(24795, 20)"
      ]
     },
     "execution_count": 4,
     "metadata": {},
     "output_type": "execute_result"
    }
   ],
   "source": [
    "df_test.shape"
   ]
  },
  {
   "cell_type": "code",
   "execution_count": 5,
   "id": "6e8bd0a0",
   "metadata": {},
   "outputs": [],
   "source": [
    "def filter_frequency(frequency_array,threshold):\n",
    "    filtered_frequency=[]\n",
    "    for i in frequency_array:\n",
    "        if i>threshold:\n",
    "            filtered_frequency.append(i)\n",
    "    return filtered_frequency"
   ]
  },
  {
   "cell_type": "code",
   "execution_count": 6,
   "id": "7e3f9f83",
   "metadata": {},
   "outputs": [],
   "source": [
    "def valuexfrequency_dict(unique_values,column):\n",
    "    my_dict=dict()\n",
    "    for i in unique_values:\n",
    "        my_dict.update({i:column.loc[column==i].count()})\n",
    "    return my_dict"
   ]
  },
  {
   "cell_type": "code",
   "execution_count": 7,
   "id": "3f1766e3",
   "metadata": {},
   "outputs": [],
   "source": [
    "def auto_accurate_label_encoding_reg(data_frame,column,label):\n",
    "    my_dict=dict()\n",
    "    j=1\n",
    "    for i in pd.unique(data_frame[column]):\n",
    "        df_i=data_frame[label].loc[data_frame[column]==i]\n",
    "        i_median=df_i.median()\n",
    "        my_dict.update({i:i_median+j})\n",
    "        j=j+0.001\n",
    "    median_price=np.array([])\n",
    "    for i in my_dict:\n",
    "        median_price=np.append(median_price,my_dict.get(i))\n",
    "    median_price.sort()\n",
    "    def get_key(val,dictionary):\n",
    "        for key, value in dictionary.items():\n",
    "            if val == value:\n",
    "                return key\n",
    "    v=1\n",
    "    for i in median_price:\n",
    "        data_frame[column].replace(get_key(i,my_dict),v,inplace=True)\n",
    "        v=v+1\n",
    "    return data_frame"
   ]
  },
  {
   "cell_type": "code",
   "execution_count": 8,
   "id": "ac50c51c",
   "metadata": {},
   "outputs": [],
   "source": [
    "def remove_column_value_points(value_points,column,dataframe):\n",
    "    value_point_indexes=[]\n",
    "    for i in value_points:\n",
    "        i_index=dataframe[column==i].index\n",
    "        value_point_indexes.append(i_index)\n",
    "    for i in value_point_indexes:\n",
    "        dataframe.drop(i,axis=0,inplace=True)\n",
    "    return dataframe"
   ]
  },
  {
   "cell_type": "code",
   "execution_count": 9,
   "id": "3d2bfd61",
   "metadata": {},
   "outputs": [],
   "source": [
    "def Year_optimize(column,dataframe,current_year):\n",
    "    df_year=[]\n",
    "    for i in dataframe[column].values:\n",
    "        year_value= i - current_year\n",
    "        df_year.append(year_value)\n",
    "    df_year=np.array(df_year)\n",
    "    df_year=pd.DataFrame(df_year,columns=[\"Year\"])\n",
    "    dataframe.drop(column,axis=1,inplace=True)\n",
    "    dataframe=pd.concat([df_year,dataframe],axis=1)\n",
    "    return dataframe"
   ]
  },
  {
   "cell_type": "code",
   "execution_count": 10,
   "id": "053fbde6",
   "metadata": {},
   "outputs": [],
   "source": [
    "def drop_valuetype_column(column,value_type_name,dataframe):\n",
    "    value_indexes= dataframe[column].loc[dataframe[column]==value_type].index\n",
    "    dataframe.drop(value_indexes,axis=0,inplace=True)\n",
    "    dataframe.reset_index(drop=True,inplace=True)"
   ]
  },
  {
   "cell_type": "code",
   "execution_count": 11,
   "id": "4a134e4c",
   "metadata": {},
   "outputs": [],
   "source": [
    "def threshold_filter(column,data_frame,min_threshold,max_threshold):\n",
    "    outlier_indexes=np.array([])\n",
    "    for i in pd.unique(data_frame[column]):\n",
    "        if i  < min_threshold:\n",
    "            data_frame=data_frame[data_frame[column]!=i]\n",
    "        \n",
    "        elif i > max_threshold:\n",
    "            data_frame=data_frame[data_frame[column]!=i]\n",
    "        \n",
    "        else:\n",
    "            pass\n",
    "    return data_frame"
   ]
  },
  {
   "cell_type": "code",
   "execution_count": 12,
   "id": "f46f65ac",
   "metadata": {},
   "outputs": [],
   "source": [
    "def filter_valuexfrequency_dict(my_dict,threshold):\n",
    "    filtered_values=np.array([])\n",
    "    for i in my_dict:\n",
    "        if my_dict.get(i) >= threshold:\n",
    "            filtered_values=np.append(filtered_values,i)\n",
    "    return filtered_values"
   ]
  },
  {
   "cell_type": "code",
   "execution_count": 13,
   "id": "cd48327a",
   "metadata": {},
   "outputs": [],
   "source": [
    "def filter_valuexfrequency_dict(my_dict,threshold):\n",
    "    filtered_values=np.array([])\n",
    "    for i in my_dict:\n",
    "        if my_dict.get(i) >= threshold:\n",
    "            filtered_values=np.append(filtered_values,i)\n",
    "    return filtered_values"
   ]
  },
  {
   "cell_type": "code",
   "execution_count": null,
   "id": "5b61fbbe",
   "metadata": {},
   "outputs": [],
   "source": []
  },
  {
   "cell_type": "code",
   "execution_count": 14,
   "id": "0b418289",
   "metadata": {},
   "outputs": [
    {
     "data": {
      "text/html": [
       "<div>\n",
       "<style scoped>\n",
       "    .dataframe tbody tr th:only-of-type {\n",
       "        vertical-align: middle;\n",
       "    }\n",
       "\n",
       "    .dataframe tbody tr th {\n",
       "        vertical-align: top;\n",
       "    }\n",
       "\n",
       "    .dataframe thead th {\n",
       "        text-align: right;\n",
       "    }\n",
       "</style>\n",
       "<table border=\"1\" class=\"dataframe\">\n",
       "  <thead>\n",
       "    <tr style=\"text-align: right;\">\n",
       "      <th></th>\n",
       "      <th>Unnamed: 0</th>\n",
       "      <th>Title</th>\n",
       "      <th>Sub_title</th>\n",
       "      <th>Brand</th>\n",
       "      <th>Model</th>\n",
       "      <th>Edition</th>\n",
       "      <th>Year</th>\n",
       "      <th>Condition</th>\n",
       "      <th>Transmission</th>\n",
       "      <th>Body</th>\n",
       "      <th>Fuel</th>\n",
       "      <th>Capacity</th>\n",
       "      <th>Mileage</th>\n",
       "      <th>Location</th>\n",
       "      <th>Description</th>\n",
       "      <th>Post_URL</th>\n",
       "      <th>Seller_name</th>\n",
       "      <th>Seller_type</th>\n",
       "      <th>published_date</th>\n",
       "      <th>Price</th>\n",
       "    </tr>\n",
       "  </thead>\n",
       "  <tbody>\n",
       "    <tr>\n",
       "      <th>0</th>\n",
       "      <td>0</td>\n",
       "      <td>Toyota Hilux 2010 for sale</td>\n",
       "      <td>Posted on 04 Jan 7:56 am, Kelaniya, Gampaha</td>\n",
       "      <td>Toyota</td>\n",
       "      <td>Hilux</td>\n",
       "      <td>NaN</td>\n",
       "      <td>2010</td>\n",
       "      <td>Used</td>\n",
       "      <td>Manual</td>\n",
       "      <td>NaN</td>\n",
       "      <td>Diesel</td>\n",
       "      <td>2,500 cc</td>\n",
       "      <td>190,000 km</td>\n",
       "      <td>Kelaniya,  Gampaha</td>\n",
       "      <td>Toyota hilux smart cab.. Brand new condition..</td>\n",
       "      <td>https://ikman.lk/en/ad/toyota-hilux-2010-for-s...</td>\n",
       "      <td>Mudunkotuwagea Chamara Prasanga Perera</td>\n",
       "      <td>Member</td>\n",
       "      <td>2022-01-04 07:56:00</td>\n",
       "      <td>Rs 7,500,000</td>\n",
       "    </tr>\n",
       "    <tr>\n",
       "      <th>1</th>\n",
       "      <td>1</td>\n",
       "      <td>Toyota Premio 2011 for sale</td>\n",
       "      <td>Posted on 03 Sep 7:11 am, Akkarepattu, Ampara</td>\n",
       "      <td>Toyota</td>\n",
       "      <td>Premio</td>\n",
       "      <td>NaN</td>\n",
       "      <td>2011</td>\n",
       "      <td>Used</td>\n",
       "      <td>Automatic</td>\n",
       "      <td>Saloon</td>\n",
       "      <td>Petrol</td>\n",
       "      <td>1,500 cc</td>\n",
       "      <td>91,700 km</td>\n",
       "      <td>Akkarepattu,  Ampara</td>\n",
       "      <td>2nd OwnerYear of registration 2012Running and ...</td>\n",
       "      <td>https://ikman.lk/en/ad/toyota-premio-2011-for-...</td>\n",
       "      <td>Jdm Insaf</td>\n",
       "      <td>Member</td>\n",
       "      <td>2022-09-03 07:11:00</td>\n",
       "      <td>Rs 10,750,000</td>\n",
       "    </tr>\n",
       "    <tr>\n",
       "      <th>2</th>\n",
       "      <td>2</td>\n",
       "      <td>Nissan X-Trail Hybrid 2015 for sale</td>\n",
       "      <td>Posted on 08 Oct 11:45 am, Colombo 7, Colombo</td>\n",
       "      <td>Nissan</td>\n",
       "      <td>X-Trail</td>\n",
       "      <td>Hybrid</td>\n",
       "      <td>2015</td>\n",
       "      <td>Used</td>\n",
       "      <td>Automatic</td>\n",
       "      <td>SUV / 4x4</td>\n",
       "      <td>Petrol</td>\n",
       "      <td>2,000 cc</td>\n",
       "      <td>80,000 km</td>\n",
       "      <td>Colombo 7,  Colombo</td>\n",
       "      <td>Nissan XTrail One owner from new CAO REGISTERE...</td>\n",
       "      <td>https://ikman.lk/en/ad/nissan-x-trail-hybrid-2...</td>\n",
       "      <td>Chandima Gooneratne</td>\n",
       "      <td>Member</td>\n",
       "      <td>2022-10-08 11:45:00</td>\n",
       "      <td>Rs 10,950,000</td>\n",
       "    </tr>\n",
       "    <tr>\n",
       "      <th>3</th>\n",
       "      <td>3</td>\n",
       "      <td>Audi A4 S Line Highest Spec 2018 for sale</td>\n",
       "      <td>Posted on 27 Nov 8:36 am, Colombo 14, Colombo</td>\n",
       "      <td>Audi</td>\n",
       "      <td>A4</td>\n",
       "      <td>S Line Highest Spec</td>\n",
       "      <td>2018</td>\n",
       "      <td>Used</td>\n",
       "      <td>Automatic</td>\n",
       "      <td>Saloon</td>\n",
       "      <td>Petrol</td>\n",
       "      <td>1,400 cc</td>\n",
       "      <td>19,000 km</td>\n",
       "      <td>Colombo 14,  Colombo</td>\n",
       "      <td>Audi A4 S-Line. Highest Spec !!! Year of Manuf...</td>\n",
       "      <td>https://ikman.lk/en/ad/audi-a4-s-line-highest-...</td>\n",
       "      <td>Salman</td>\n",
       "      <td>Member</td>\n",
       "      <td>2022-11-27 08:36:00</td>\n",
       "      <td>Rs 16,000,000</td>\n",
       "    </tr>\n",
       "    <tr>\n",
       "      <th>4</th>\n",
       "      <td>4</td>\n",
       "      <td>New-Holland 4710 2016</td>\n",
       "      <td>Posted by Pramodaya on 2021-10-27 11:27 am, Ku...</td>\n",
       "      <td>New-Holland</td>\n",
       "      <td>4710</td>\n",
       "      <td>NaN</td>\n",
       "      <td>2016</td>\n",
       "      <td>Used</td>\n",
       "      <td>Manual</td>\n",
       "      <td>Tractor</td>\n",
       "      <td>Diesel</td>\n",
       "      <td>-</td>\n",
       "      <td>-</td>\n",
       "      <td>Kuliyapitiya</td>\n",
       "      <td>-</td>\n",
       "      <td>https://riyasewana.com/buy/new-holland-4710-sa...</td>\n",
       "      <td>Pramodaya</td>\n",
       "      <td>Member</td>\n",
       "      <td>2021-10-27 11:27:00</td>\n",
       "      <td>Rs. 810,000</td>\n",
       "    </tr>\n",
       "  </tbody>\n",
       "</table>\n",
       "</div>"
      ],
      "text/plain": [
       "   Unnamed: 0                                      Title  \\\n",
       "0           0                 Toyota Hilux 2010 for sale   \n",
       "1           1                Toyota Premio 2011 for sale   \n",
       "2           2        Nissan X-Trail Hybrid 2015 for sale   \n",
       "3           3  Audi A4 S Line Highest Spec 2018 for sale   \n",
       "4           4                      New-Holland 4710 2016   \n",
       "\n",
       "                                           Sub_title        Brand    Model  \\\n",
       "0        Posted on 04 Jan 7:56 am, Kelaniya, Gampaha       Toyota    Hilux   \n",
       "1      Posted on 03 Sep 7:11 am, Akkarepattu, Ampara       Toyota   Premio   \n",
       "2      Posted on 08 Oct 11:45 am, Colombo 7, Colombo       Nissan  X-Trail   \n",
       "3      Posted on 27 Nov 8:36 am, Colombo 14, Colombo         Audi       A4   \n",
       "4  Posted by Pramodaya on 2021-10-27 11:27 am, Ku...  New-Holland     4710   \n",
       "\n",
       "               Edition  Year Condition Transmission       Body    Fuel  \\\n",
       "0                  NaN  2010      Used       Manual        NaN  Diesel   \n",
       "1                  NaN  2011      Used    Automatic     Saloon  Petrol   \n",
       "2               Hybrid  2015      Used    Automatic  SUV / 4x4  Petrol   \n",
       "3  S Line Highest Spec  2018      Used    Automatic     Saloon  Petrol   \n",
       "4                  NaN  2016      Used       Manual    Tractor  Diesel   \n",
       "\n",
       "   Capacity     Mileage               Location  \\\n",
       "0  2,500 cc  190,000 km     Kelaniya,  Gampaha   \n",
       "1  1,500 cc   91,700 km   Akkarepattu,  Ampara   \n",
       "2  2,000 cc   80,000 km    Colombo 7,  Colombo   \n",
       "3  1,400 cc   19,000 km   Colombo 14,  Colombo   \n",
       "4         -           -           Kuliyapitiya   \n",
       "\n",
       "                                         Description  \\\n",
       "0     Toyota hilux smart cab.. Brand new condition..   \n",
       "1  2nd OwnerYear of registration 2012Running and ...   \n",
       "2  Nissan XTrail One owner from new CAO REGISTERE...   \n",
       "3  Audi A4 S-Line. Highest Spec !!! Year of Manuf...   \n",
       "4                                                  -   \n",
       "\n",
       "                                            Post_URL  \\\n",
       "0  https://ikman.lk/en/ad/toyota-hilux-2010-for-s...   \n",
       "1  https://ikman.lk/en/ad/toyota-premio-2011-for-...   \n",
       "2  https://ikman.lk/en/ad/nissan-x-trail-hybrid-2...   \n",
       "3  https://ikman.lk/en/ad/audi-a4-s-line-highest-...   \n",
       "4  https://riyasewana.com/buy/new-holland-4710-sa...   \n",
       "\n",
       "                              Seller_name Seller_type       published_date  \\\n",
       "0  Mudunkotuwagea Chamara Prasanga Perera      Member  2022-01-04 07:56:00   \n",
       "1                               Jdm Insaf      Member  2022-09-03 07:11:00   \n",
       "2                     Chandima Gooneratne      Member  2022-10-08 11:45:00   \n",
       "3                                  Salman      Member  2022-11-27 08:36:00   \n",
       "4                               Pramodaya      Member  2021-10-27 11:27:00   \n",
       "\n",
       "           Price  \n",
       "0   Rs 7,500,000  \n",
       "1  Rs 10,750,000  \n",
       "2  Rs 10,950,000  \n",
       "3  Rs 16,000,000  \n",
       "4    Rs. 810,000  "
      ]
     },
     "execution_count": 14,
     "metadata": {},
     "output_type": "execute_result"
    }
   ],
   "source": [
    "df_test.head()"
   ]
  },
  {
   "cell_type": "code",
   "execution_count": 15,
   "id": "e50361a1",
   "metadata": {},
   "outputs": [],
   "source": [
    "#Price\n",
    "Price_Negotiable_indexes=df_test[\"Price\"].loc[df_test[\"Price\"]==' Negotiable'].index\n",
    "df_test.drop(Price_Negotiable_indexes,axis=0,inplace=True)\n",
    "df_test.reset_index(drop=True,inplace=True)\n",
    "edit_price_array=[]\n",
    "for i in df_test[\"Price\"].values:\n",
    "    edit_price_array.append(int(sub(r'\\D','',i)))\n",
    "df_test_price_df=pd.DataFrame(edit_price_array,columns=[\"Price\"])\n",
    "df_test.drop(df_test[[\"Price\"]],axis=1,inplace=True)\n",
    "df_test=pd.concat([df_test,df_test_price_df],axis=1)"
   ]
  },
  {
   "cell_type": "code",
   "execution_count": 16,
   "id": "1a45a915",
   "metadata": {},
   "outputs": [],
   "source": [
    "#Brand\n",
    "brandxfrequency=list(df_test['Brand'].value_counts())\n",
    "brandxfrequency.sort(reverse=False)\n",
    "brandxfrequency_df=pd.DataFrame(brandxfrequency,columns=[\"Brand_frequency\"])\n",
    "filtered_brandxfrequency=filter_frequency(brandxfrequency,1500)\n",
    "brand_dict=valuexfrequency_dict(pd.unique(df_test[\"Brand\"]),df_test[\"Brand\"])\n",
    "filtered_brand_dict=[]\n",
    "for i in pd.unique(df_test[\"Brand\"]):\n",
    "    filtered_brand_dict.append(brand_dict.get(i))\n",
    "filtered_brand_dict.sort(reverse=True)\n",
    "for i in pd.unique(df_test[\"Brand\"]):\n",
    "    if brand_dict.get(i) < 1500:\n",
    "        df_test.drop(df_test.loc[df_test[\"Brand\"]==i].index,axis=0,inplace=True)\n",
    "df_test.reset_index(drop=True,inplace=True)\n",
    "df_test=auto_accurate_label_encoding_reg(df_test,\"Brand\",\"Price\")"
   ]
  },
  {
   "cell_type": "code",
   "execution_count": 17,
   "id": "61c24296",
   "metadata": {},
   "outputs": [],
   "source": [
    "#Fuel\n",
    "fuel_remove=['CNG','Electric', 'Gas','Kick', 'Kick / Electric', \n",
    "             'Other fuel type']\n",
    "fuel_remove_indexes=[]\n",
    "for i in fuel_remove:\n",
    "    index=df_test[df_test[\"Fuel\"]==i].index\n",
    "    fuel_remove_indexes.append(index)\n",
    "for i in fuel_remove_indexes:\n",
    "    df_test.drop(i,axis=0,inplace=True)\n",
    "df_test.reset_index(drop=True,inplace=True)\n",
    "df_test=auto_accurate_label_encoding_reg(df_test,\"Fuel\",\"Price\")"
   ]
  },
  {
   "cell_type": "code",
   "execution_count": 18,
   "id": "1df74999",
   "metadata": {},
   "outputs": [],
   "source": [
    "#Year\n",
    "filter_Year_values=[ 2561,2010,2009,2008,2007,2006,2005,2004,2003,2002,2001,\n",
    "                    2000,1999,1998,1997,1996,1995,1994,1993,1992,1991,1990,\n",
    "                    1989,1988,1987,1986,1985,1984,1983,1982,1981,1980,1979,\n",
    "                    1978,1977,1976,1975,1974,1973,1972,1971,1970,1969,1968,\n",
    "                    1967,1966,1965,1964,1963,1960,1956,1955,1952,1948,1936,1922,1900,0,]\n",
    "df_test=remove_column_value_points(filter_Year_values,df_test[\"Year\"],df_test)\n",
    "df_test.reset_index(drop=True,inplace=True)\n",
    "df_test=Year_optimize(\"Year\",df_test,2022)"
   ]
  },
  {
   "cell_type": "code",
   "execution_count": 19,
   "id": "b13366f6",
   "metadata": {},
   "outputs": [],
   "source": [
    "#Condition\n",
    "df_test['Condition'] = df_test['Condition'].replace(['Recondition'],'Reconditioned')\n",
    "Condition_e_indexes=df_test[\"Condition\"].loc[df_test[\"Condition\"]=='e'].index\n",
    "df_test.drop(Condition_e_indexes,axis=0,inplace=True)\n",
    "df_test.reset_index(drop=True,inplace=True)\n",
    "df_test[\"Condition\"]=df_test[\"Condition\"].replace(['Used', 'Reconditioned', 'New'],[0,1,2])"
   ]
  },
  {
   "cell_type": "code",
   "execution_count": 20,
   "id": "2badb845",
   "metadata": {},
   "outputs": [],
   "source": [
    "#Transmission\n",
    "def replace_valuetype_column(column,value_type_name,dataframe):\n",
    "    value_indexes= dataframe[column].loc[dataframe[column]==value_type_name].index\n",
    "    dataframe.drop(value_indexes,axis=0,inplace=True)\n",
    "    dataframe.reset_index(drop=True,inplace=True)\n",
    "replace_valuetype_column(\"Transmission\",\"Other transmission\",df_test)\n",
    "df_test[\"Transmission\"]=df_test[\"Transmission\"].replace([\"Manual\",\"Automatic\",\"Tiptronic\"],[0,1,2])"
   ]
  },
  {
   "cell_type": "code",
   "execution_count": 21,
   "id": "c644efd7",
   "metadata": {},
   "outputs": [],
   "source": [
    "#Body\n",
    "df_test[\"Body\"]=df_test[\"Body\"].fillna('Car')\n",
    "Bodyxfrequency=list(df_test['Body'].value_counts())\n",
    "Bodyxfrequency.sort(reverse=False)\n",
    "filtered_bodyxfrequency=filter_frequency(Bodyxfrequency,1500)\n",
    "body_dict=valuexfrequency_dict(pd.unique(df_test[\"Body\"]),df_test[\"Body\"])\n",
    "filtered_body_dict=[]\n",
    "for i in pd.unique(df_test[\"Body\"]):\n",
    "    filtered_body_dict.append(body_dict.get(i))\n",
    "filtered_body_dict.sort(reverse=True)\n",
    "for i in pd.unique(df_test[\"Body\"]):\n",
    "    if body_dict.get(i) < 1500:\n",
    "        df_test.drop(df_test.loc[df_test[\"Body\"]==i].index,axis=0,inplace=True)\n",
    "filtered_body_dict_complement=['MPV','Van', 'Station wagon', 'Lorry',\n",
    "       'Unregistered', 'Pickup', 'Convertible', 'Bus', 'CoupÃ©/Sports',\n",
    "       'Heavy-Duty', 'Wagon', 'Cab', 'Tractor']\n",
    "df_test_body_=df_test[[\"Body\"]]\n",
    "body_outlier_indexes=[]\n",
    "for i in filtered_body_dict_complement:\n",
    "    indexes_outliers=(df_test_body_[df_test_body_[\"Body\"]==i]).index\n",
    "    body_outlier_indexes.append(indexes_outliers)\n",
    "\n",
    "for i in body_outlier_indexes:\n",
    "    df_test.drop(i,axis=0,inplace=True)\n",
    "df_test=auto_accurate_label_encoding_reg(df_test,\"Body\",\"Price\")"
   ]
  },
  {
   "cell_type": "code",
   "execution_count": 22,
   "id": "b8806ad6",
   "metadata": {},
   "outputs": [],
   "source": [
    "#Capacity\n",
    "df_test=df_test[df_test[\"Capacity\"].notna()]\n",
    "outlier=[\"-\",\"Manual\",\"Automatic\"]\n",
    "for i in outlier:\n",
    "    df_test=df_test[df_test[\"Capacity\"]!=i]\n",
    "df_test.reset_index(drop=True,inplace=True)\n",
    "df_test_capacity=np.array([])\n",
    "for i in df_test[\"Capacity\"].values:\n",
    "    i=sub(r'\\D','',i)\n",
    "    df_test_capacity=np.append(df_test_capacity,i)\n",
    "df_test.drop(\"Capacity\",axis=1,inplace=True)\n",
    "df_test_capacity=pd.DataFrame(df_test_capacity,columns=[\"Capacity\"])\n",
    "df_test=pd.concat([df_test_capacity,df_test],axis=1)\n",
    "for i in df_test[\"Capacity\"].values:\n",
    "    try:\n",
    "        float(i)\n",
    "    except:\n",
    "        index=df_test[df_test[\"Condition\"]==i].index\n",
    "        df_test.drop(index,axis=0,inplace=True)\n",
    "        print(index)\n",
    "    else:\n",
    "        pass\n",
    "for i in pd.unique(df_test[\"Capacity\"].values):\n",
    "    df_test[\"Capacity\"]=df_test.Capacity.replace(i,float(i))\n",
    "df_test=threshold_filter(\"Capacity\",df_test,60,5000)"
   ]
  },
  {
   "cell_type": "code",
   "execution_count": 23,
   "id": "ef2236ff",
   "metadata": {},
   "outputs": [],
   "source": [
    "# Mileage\n",
    "df_test=df_test[df_test[\"Mileage\"].notna()]\n",
    "remove=[\"-\",\"Automatic\",\"Manual\",\"km\"]\n",
    "remove_indexes=np.array([])\n",
    "for i in remove:\n",
    "    index=df_test.loc[df_test[\"Mileage\"]==i].index\n",
    "    remove_indexes=np.append(remove_indexes,index)\n",
    "df_test.drop(remove_indexes,axis=0,inplace=True)\n",
    "for i in pd.unique(df_test[\"Mileage\"]):\n",
    "#     print(i)\n",
    "    changed_i=sub(r'\\D','',i)\n",
    "    df_test.Mileage.replace(i,float(changed_i),inplace=True)\n",
    "df_test=threshold_filter(\"Mileage\",df_test,50,300000)"
   ]
  },
  {
   "cell_type": "code",
   "execution_count": 24,
   "id": "8fe614f7",
   "metadata": {},
   "outputs": [],
   "source": [
    "#Seller type\n",
    "df_test.Seller_type.replace(['Member', 'Premium-Member'],[0,1],inplace=True)"
   ]
  },
  {
   "cell_type": "code",
   "execution_count": 25,
   "id": "e490714f",
   "metadata": {},
   "outputs": [],
   "source": [
    "#Model\n",
    "my_dict=valuexfrequency_dict(pd.unique(df_test[\"Model\"]),df_test[\"Model\"])\n",
    "filtered_values=filter_valuexfrequency_dict(my_dict,100)\n",
    "my_dict=valuexfrequency_dict(filtered_values,df_test[\"Model\"])\n",
    "for i in pd.unique(df_test[\"Model\"]):\n",
    "    if i in filtered_values:\n",
    "        pass\n",
    "    else:\n",
    "        df_test=df_test[df_test[\"Model\"]!=i]\n",
    "df_test.reset_index(drop=True,inplace=True)\n",
    "df_test=auto_accurate_label_encoding_reg(df_test,\"Model\",\"Price\")"
   ]
  },
  {
   "cell_type": "code",
   "execution_count": 26,
   "id": "31d0de2b",
   "metadata": {},
   "outputs": [],
   "source": [
    "#Scaling Down\n",
    "from sklearn.preprocessing import StandardScaler\n",
    "sc=StandardScaler()\n",
    "xyz=sc.fit_transform(df_test[[\"Price\",\"Capacity\",\"Mileage\",]])\n",
    "df_scaled_columns=pd.DataFrame()\n",
    "df_scaled_columns= pd.DataFrame(xyz, columns = [\"Price\",\"Capacity\",\"Mileage\",])\n",
    "df_test=df_test.drop([\"Price\",\"Capacity\",\"Mileage\"],axis=1)\n",
    "df_test=pd.concat([df_test,df_scaled_columns],axis=1)"
   ]
  },
  {
   "cell_type": "code",
   "execution_count": 27,
   "id": "365779c9",
   "metadata": {},
   "outputs": [],
   "source": [
    "#Dropping\n",
    "for i in ['published_date', \"Seller_name\", \"Post_URL\", \"Description\", \"Location\", \"Edition\",\n",
    "           \"Sub_title\", \"Title\", 'Unnamed: 0','Model']:\n",
    "    df_test.drop(i,axis=1,inplace=True)\n",
    "df_test.drop([\"Seller_type\",\"Condition\"],axis=1,inplace=True) "
   ]
  },
  {
   "cell_type": "code",
   "execution_count": 28,
   "id": "7ba655f3",
   "metadata": {},
   "outputs": [
    {
     "data": {
      "text/plain": [
       "(2920, 8)"
      ]
     },
     "execution_count": 28,
     "metadata": {},
     "output_type": "execute_result"
    }
   ],
   "source": [
    "df_test.shape"
   ]
  },
  {
   "cell_type": "code",
   "execution_count": 29,
   "id": "9e568c40",
   "metadata": {},
   "outputs": [],
   "source": [
    "#Sending the file \n",
    "df_test.to_csv(\"vehicle_testdata_preprocessed.csv\")"
   ]
  },
  {
   "cell_type": "code",
   "execution_count": null,
   "id": "17a0a0de",
   "metadata": {},
   "outputs": [],
   "source": []
  }
 ],
 "metadata": {
  "kernelspec": {
   "display_name": "Python 3 (ipykernel)",
   "language": "python",
   "name": "python3"
  },
  "language_info": {
   "codemirror_mode": {
    "name": "ipython",
    "version": 3
   },
   "file_extension": ".py",
   "mimetype": "text/x-python",
   "name": "python",
   "nbconvert_exporter": "python",
   "pygments_lexer": "ipython3",
   "version": "3.9.7"
  }
 },
 "nbformat": 4,
 "nbformat_minor": 5
}
