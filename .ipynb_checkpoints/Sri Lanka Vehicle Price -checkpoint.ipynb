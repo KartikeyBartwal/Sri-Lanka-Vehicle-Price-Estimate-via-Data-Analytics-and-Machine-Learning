{
 "cells": [
  {
   "cell_type": "code",
   "execution_count": 1,
   "id": "691db281",
   "metadata": {},
   "outputs": [],
   "source": [
    "import pandas as pd"
   ]
  },
  {
   "cell_type": "code",
   "execution_count": 3,
   "id": "79e6333a",
   "metadata": {},
   "outputs": [],
   "source": [
    "df=pd.read_csv(\"vehicle_data.csv\",low_memory=False)"
   ]
  },
  {
   "cell_type": "code",
   "execution_count": 4,
   "id": "7ef7ab49",
   "metadata": {},
   "outputs": [
    {
     "data": {
      "text/html": [
       "<div>\n",
       "<style scoped>\n",
       "    .dataframe tbody tr th:only-of-type {\n",
       "        vertical-align: middle;\n",
       "    }\n",
       "\n",
       "    .dataframe tbody tr th {\n",
       "        vertical-align: top;\n",
       "    }\n",
       "\n",
       "    .dataframe thead th {\n",
       "        text-align: right;\n",
       "    }\n",
       "</style>\n",
       "<table border=\"1\" class=\"dataframe\">\n",
       "  <thead>\n",
       "    <tr style=\"text-align: right;\">\n",
       "      <th></th>\n",
       "      <th>Title</th>\n",
       "      <th>Sub_title</th>\n",
       "      <th>Price</th>\n",
       "      <th>Brand</th>\n",
       "      <th>Model</th>\n",
       "      <th>Edition</th>\n",
       "      <th>Year</th>\n",
       "      <th>Condition</th>\n",
       "      <th>Transmission</th>\n",
       "      <th>Body</th>\n",
       "      <th>Fuel</th>\n",
       "      <th>Capacity</th>\n",
       "      <th>Mileage</th>\n",
       "      <th>Location</th>\n",
       "      <th>Description</th>\n",
       "      <th>Post_URL</th>\n",
       "      <th>Seller_name</th>\n",
       "      <th>Seller_type</th>\n",
       "      <th>published_date</th>\n",
       "    </tr>\n",
       "  </thead>\n",
       "  <tbody>\n",
       "    <tr>\n",
       "      <th>0</th>\n",
       "      <td>Honda Vezel Limited 2017 for sale</td>\n",
       "      <td>Posted on 01 Sep 2:45 pm, Kurunegala City, Kur...</td>\n",
       "      <td>Rs 12,900,000</td>\n",
       "      <td>Honda</td>\n",
       "      <td>Vezel</td>\n",
       "      <td>Limited</td>\n",
       "      <td>2017</td>\n",
       "      <td>Used</td>\n",
       "      <td>Automatic</td>\n",
       "      <td>SUV / 4x4</td>\n",
       "      <td>Hybrid</td>\n",
       "      <td>1,500 cc</td>\n",
       "      <td>37,000 km</td>\n",
       "      <td>Kurunegala City,  Kurunegala</td>\n",
       "      <td>HONDA VEZEL LIMITEDCBE-XXXXMANU YEAR : 2017LIM...</td>\n",
       "      <td>https://ikman.lk/en/ad/honda-vezel-limited-201...</td>\n",
       "      <td>Prasad Enterprises</td>\n",
       "      <td>Premium-Member</td>\n",
       "      <td>2022-09-01 14:45:00</td>\n",
       "    </tr>\n",
       "    <tr>\n",
       "      <th>1</th>\n",
       "      <td>Jaguar XF Fully Loaded 2013 for sale</td>\n",
       "      <td>Posted on 28 Sep 10:23 am, Kurunegala City, Ku...</td>\n",
       "      <td>Rs 16,250,000</td>\n",
       "      <td>Jaguar</td>\n",
       "      <td>XF</td>\n",
       "      <td>Fully Loaded</td>\n",
       "      <td>2013</td>\n",
       "      <td>Used</td>\n",
       "      <td>Automatic</td>\n",
       "      <td>Saloon</td>\n",
       "      <td>Diesel</td>\n",
       "      <td>2,200 cc</td>\n",
       "      <td>42,000 km</td>\n",
       "      <td>Kurunegala City,  Kurunegala</td>\n",
       "      <td>1st owner(registered owner)Diesel(13-14km per ...</td>\n",
       "      <td>https://ikman.lk/en/ad/jaguar-xf-fully-loaded-...</td>\n",
       "      <td>Dhanushka Dharmasri</td>\n",
       "      <td>Member</td>\n",
       "      <td>2022-09-28 10:23:00</td>\n",
       "    </tr>\n",
       "    <tr>\n",
       "      <th>2</th>\n",
       "      <td>Toyota CHR GT New Face 2wd 2020 for sale</td>\n",
       "      <td>Posted on 16 Sep 1:16 pm, Colombo 7, Colombo</td>\n",
       "      <td>Rs 17,000,000</td>\n",
       "      <td>Toyota</td>\n",
       "      <td>CHR</td>\n",
       "      <td>GT New Face 2wd</td>\n",
       "      <td>2020</td>\n",
       "      <td>Used</td>\n",
       "      <td>Automatic</td>\n",
       "      <td>SUV / 4x4</td>\n",
       "      <td>Petrol</td>\n",
       "      <td>1,200 cc</td>\n",
       "      <td>15,000 km</td>\n",
       "      <td>Colombo 7,  Colombo</td>\n",
       "      <td>2020 Facelift modelFirst owner (No previous ow...</td>\n",
       "      <td>https://ikman.lk/en/ad/toyota-chr-gt-new-face-...</td>\n",
       "      <td>Carzone Lanka</td>\n",
       "      <td>Member</td>\n",
       "      <td>2022-09-16 13:16:00</td>\n",
       "    </tr>\n",
       "    <tr>\n",
       "      <th>3</th>\n",
       "      <td>Toyota CHR Toyato 2017 for sale</td>\n",
       "      <td>Posted on 30 Sep 10:12 am, Colombo 7, Colombo</td>\n",
       "      <td>Rs 13,000,000</td>\n",
       "      <td>Toyota</td>\n",
       "      <td>CHR</td>\n",
       "      <td>Toyato</td>\n",
       "      <td>2017</td>\n",
       "      <td>Used</td>\n",
       "      <td>Automatic</td>\n",
       "      <td>SUV / 4x4</td>\n",
       "      <td>Petrol</td>\n",
       "      <td>1,200 cc</td>\n",
       "      <td>21,000 km</td>\n",
       "      <td>Colombo 7,  Colombo</td>\n",
       "      <td>Toyota CHR GT Turbo1st owner Imported as a bra...</td>\n",
       "      <td>https://ikman.lk/en/ad/toyota-chr-toyato-2017-...</td>\n",
       "      <td>Carzone Lanka</td>\n",
       "      <td>Member</td>\n",
       "      <td>2022-09-30 10:12:00</td>\n",
       "    </tr>\n",
       "    <tr>\n",
       "      <th>4</th>\n",
       "      <td>Toyota Land Cruiser Prado 2015 for sale</td>\n",
       "      <td>Posted on 30 Sep 9:50 pm, Kelaniya, Gampaha</td>\n",
       "      <td>Rs 33,500,000</td>\n",
       "      <td>Toyota</td>\n",
       "      <td>Land Cruiser Prado</td>\n",
       "      <td>prado</td>\n",
       "      <td>2015</td>\n",
       "      <td>Used</td>\n",
       "      <td>Automatic</td>\n",
       "      <td>SUV / 4x4</td>\n",
       "      <td>Petrol</td>\n",
       "      <td>2,700 cc</td>\n",
       "      <td>57,000 km</td>\n",
       "      <td>Kelaniya,  Gampaha</td>\n",
       "      <td>Toyota Land Cruiser Prado 20152 nd Owner for 5...</td>\n",
       "      <td>https://ikman.lk/en/ad/toyota-land-cruiser-pra...</td>\n",
       "      <td>Shine Music Center</td>\n",
       "      <td>Member</td>\n",
       "      <td>2022-09-30 21:50:00</td>\n",
       "    </tr>\n",
       "  </tbody>\n",
       "</table>\n",
       "</div>"
      ],
      "text/plain": [
       "                                      Title  \\\n",
       "0         Honda Vezel Limited 2017 for sale   \n",
       "1      Jaguar XF Fully Loaded 2013 for sale   \n",
       "2  Toyota CHR GT New Face 2wd 2020 for sale   \n",
       "3           Toyota CHR Toyato 2017 for sale   \n",
       "4   Toyota Land Cruiser Prado 2015 for sale   \n",
       "\n",
       "                                           Sub_title          Price   Brand  \\\n",
       "0  Posted on 01 Sep 2:45 pm, Kurunegala City, Kur...  Rs 12,900,000   Honda   \n",
       "1  Posted on 28 Sep 10:23 am, Kurunegala City, Ku...  Rs 16,250,000  Jaguar   \n",
       "2       Posted on 16 Sep 1:16 pm, Colombo 7, Colombo  Rs 17,000,000  Toyota   \n",
       "3      Posted on 30 Sep 10:12 am, Colombo 7, Colombo  Rs 13,000,000  Toyota   \n",
       "4        Posted on 30 Sep 9:50 pm, Kelaniya, Gampaha  Rs 33,500,000  Toyota   \n",
       "\n",
       "                Model          Edition  Year Condition Transmission  \\\n",
       "0               Vezel          Limited  2017      Used    Automatic   \n",
       "1                  XF     Fully Loaded  2013      Used    Automatic   \n",
       "2                 CHR  GT New Face 2wd  2020      Used    Automatic   \n",
       "3                 CHR           Toyato  2017      Used    Automatic   \n",
       "4  Land Cruiser Prado            prado  2015      Used    Automatic   \n",
       "\n",
       "        Body    Fuel  Capacity    Mileage                       Location  \\\n",
       "0  SUV / 4x4  Hybrid  1,500 cc  37,000 km   Kurunegala City,  Kurunegala   \n",
       "1     Saloon  Diesel  2,200 cc  42,000 km   Kurunegala City,  Kurunegala   \n",
       "2  SUV / 4x4  Petrol  1,200 cc  15,000 km            Colombo 7,  Colombo   \n",
       "3  SUV / 4x4  Petrol  1,200 cc  21,000 km            Colombo 7,  Colombo   \n",
       "4  SUV / 4x4  Petrol  2,700 cc  57,000 km             Kelaniya,  Gampaha   \n",
       "\n",
       "                                         Description  \\\n",
       "0  HONDA VEZEL LIMITEDCBE-XXXXMANU YEAR : 2017LIM...   \n",
       "1  1st owner(registered owner)Diesel(13-14km per ...   \n",
       "2  2020 Facelift modelFirst owner (No previous ow...   \n",
       "3  Toyota CHR GT Turbo1st owner Imported as a bra...   \n",
       "4  Toyota Land Cruiser Prado 20152 nd Owner for 5...   \n",
       "\n",
       "                                            Post_URL          Seller_name  \\\n",
       "0  https://ikman.lk/en/ad/honda-vezel-limited-201...   Prasad Enterprises   \n",
       "1  https://ikman.lk/en/ad/jaguar-xf-fully-loaded-...  Dhanushka Dharmasri   \n",
       "2  https://ikman.lk/en/ad/toyota-chr-gt-new-face-...        Carzone Lanka   \n",
       "3  https://ikman.lk/en/ad/toyota-chr-toyato-2017-...        Carzone Lanka   \n",
       "4  https://ikman.lk/en/ad/toyota-land-cruiser-pra...   Shine Music Center   \n",
       "\n",
       "      Seller_type       published_date  \n",
       "0  Premium-Member  2022-09-01 14:45:00  \n",
       "1          Member  2022-09-28 10:23:00  \n",
       "2          Member  2022-09-16 13:16:00  \n",
       "3          Member  2022-09-30 10:12:00  \n",
       "4          Member  2022-09-30 21:50:00  "
      ]
     },
     "execution_count": 4,
     "metadata": {},
     "output_type": "execute_result"
    }
   ],
   "source": [
    "df.head()"
   ]
  },
  {
   "cell_type": "code",
   "execution_count": 8,
   "id": "134212e2",
   "metadata": {},
   "outputs": [],
   "source": [
    "df=df[['Price','Title', 'Sub_title', 'Brand', 'Model', 'Edition', 'Year',\n",
    "       'Condition', 'Transmission', 'Body', 'Fuel', 'Capacity', 'Mileage',\n",
    "       'Location', 'Description', 'Post_URL', 'Seller_name', 'Seller_type',\n",
    "       'published_date']]"
   ]
  },
  {
   "cell_type": "code",
   "execution_count": 14,
   "id": "d853226a",
   "metadata": {},
   "outputs": [
    {
     "data": {
      "text/plain": [
       "(123971, 19)"
      ]
     },
     "execution_count": 14,
     "metadata": {},
     "output_type": "execute_result"
    }
   ],
   "source": [
    "df.shape"
   ]
  },
  {
   "cell_type": "code",
   "execution_count": 28,
   "id": "6df1b73b",
   "metadata": {},
   "outputs": [
    {
     "data": {
      "text/plain": [
       "Price                 0\n",
       "Title                 0\n",
       "Sub_title             0\n",
       "Brand                 0\n",
       "Model                 1\n",
       "Edition           76433\n",
       "Year                  0\n",
       "Condition             0\n",
       "Transmission          1\n",
       "Body               5095\n",
       "Fuel                  0\n",
       "Capacity            205\n",
       "Mileage               0\n",
       "Location              0\n",
       "Description       16174\n",
       "Post_URL              0\n",
       "Seller_name          98\n",
       "Seller_type           0\n",
       "published_date        0\n",
       "dtype: int64"
      ]
     },
     "execution_count": 28,
     "metadata": {},
     "output_type": "execute_result"
    }
   ],
   "source": [
    "df.isnull().sum()"
   ]
  },
  {
   "cell_type": "code",
   "execution_count": 18,
   "id": "96494ba3",
   "metadata": {},
   "outputs": [],
   "source": [
    "x=df.iloc[:,1:].values\n",
    "Y=df.iloc[:,0].values"
   ]
  },
  {
   "cell_type": "code",
   "execution_count": 21,
   "id": "6ba90c25",
   "metadata": {},
   "outputs": [],
   "source": [
    "from sklearn.model_selection import train_test_split\n",
    "x_train,x_test,Y_train,Y_test=train_test_split(x,Y,test_size=0.2,random_state=42)"
   ]
  },
  {
   "cell_type": "code",
   "execution_count": 22,
   "id": "0d8b4ef1",
   "metadata": {},
   "outputs": [],
   "source": [
    "def form_dataframe(features,label,feature_col_name,label_col_name):\n",
    "    features=pd.DataFrame(features,columns=feature_col_name)\n",
    "    features.reset_index(drop=True,inplace=True)\n",
    "    label=pd.DataFrame(label,columns=label_col_name)\n",
    "    label.reset_index(drop=True,inplace=True)\n",
    "    return pd.concat([features,label],axis=1)"
   ]
  },
  {
   "cell_type": "code",
   "execution_count": 25,
   "id": "404b9e9c",
   "metadata": {},
   "outputs": [],
   "source": [
    "df_train= form_dataframe(x_train,Y_train,['Title', 'Sub_title', 'Brand', 'Model', 'Edition', 'Year',\n",
    "       'Condition', 'Transmission', 'Body', 'Fuel', 'Capacity', 'Mileage',\n",
    "       'Location', 'Description', 'Post_URL', 'Seller_name', 'Seller_type',\n",
    "       'published_date'],[\"Price\"])"
   ]
  },
  {
   "cell_type": "code",
   "execution_count": 26,
   "id": "5964940d",
   "metadata": {},
   "outputs": [
    {
     "data": {
      "text/plain": [
       "Title                 0\n",
       "Sub_title             0\n",
       "Brand                 0\n",
       "Model                 1\n",
       "Edition           61191\n",
       "Year                  0\n",
       "Condition             0\n",
       "Transmission          1\n",
       "Body               4088\n",
       "Fuel                  0\n",
       "Capacity            160\n",
       "Mileage               0\n",
       "Location              0\n",
       "Description       13001\n",
       "Post_URL              0\n",
       "Seller_name          78\n",
       "Seller_type           0\n",
       "published_date        0\n",
       "Price                 0\n",
       "dtype: int64"
      ]
     },
     "execution_count": 26,
     "metadata": {},
     "output_type": "execute_result"
    }
   ],
   "source": [
    "df_train.isnull().sum()"
   ]
  },
  {
   "cell_type": "code",
   "execution_count": 30,
   "id": "ae63cc11",
   "metadata": {},
   "outputs": [],
   "source": [
    "df_test= form_dataframe(x_test,Y_test,['Title', 'Sub_title', 'Brand', 'Model', 'Edition', 'Year',\n",
    "       'Condition', 'Transmission', 'Body', 'Fuel', 'Capacity', 'Mileage',\n",
    "       'Location', 'Description', 'Post_URL', 'Seller_name', 'Seller_type',\n",
    "       'published_date'],[\"Price\"])"
   ]
  },
  {
   "cell_type": "code",
   "execution_count": 36,
   "id": "41f861c7",
   "metadata": {},
   "outputs": [],
   "source": [
    "df_train.to_csv(\"vehicle_data_train.csv\")"
   ]
  },
  {
   "cell_type": "code",
   "execution_count": 37,
   "id": "161d6a2b",
   "metadata": {},
   "outputs": [],
   "source": [
    "df_test.to_csv(\"vehicle_data_test.csv\")"
   ]
  },
  {
   "cell_type": "code",
   "execution_count": null,
   "id": "c77ee8d4",
   "metadata": {},
   "outputs": [],
   "source": []
  }
 ],
 "metadata": {
  "kernelspec": {
   "display_name": "Python 3 (ipykernel)",
   "language": "python",
   "name": "python3"
  },
  "language_info": {
   "codemirror_mode": {
    "name": "ipython",
    "version": 3
   },
   "file_extension": ".py",
   "mimetype": "text/x-python",
   "name": "python",
   "nbconvert_exporter": "python",
   "pygments_lexer": "ipython3",
   "version": "3.9.7"
  }
 },
 "nbformat": 4,
 "nbformat_minor": 5
}
